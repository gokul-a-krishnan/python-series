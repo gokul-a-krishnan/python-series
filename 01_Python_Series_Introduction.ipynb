{
  "nbformat": 4,
  "nbformat_minor": 0,
  "metadata": {
    "colab": {
      "name": "Copy of 01 . Python Series - Introduction.ipynb",
      "provenance": [],
      "collapsed_sections": [],
      "toc_visible": true,
      "include_colab_link": true
    },
    "kernelspec": {
      "name": "python3",
      "display_name": "Python 3"
    }
  },
  "cells": [
    {
      "cell_type": "markdown",
      "metadata": {
        "id": "view-in-github",
        "colab_type": "text"
      },
      "source": [
        "<a href=\"https://colab.research.google.com/github/gokul-a-krishnan/python-series/blob/master/Copy_of_01_Python_Series_Introduction.ipynb\" target=\"_parent\"><img src=\"https://colab.research.google.com/assets/colab-badge.svg\" alt=\"Open In Colab\"/></a>"
      ]
    },
    {
      "cell_type": "markdown",
      "metadata": {
        "id": "jvm0368XHEBh",
        "colab_type": "text"
      },
      "source": [
        "# Python Series"
      ]
    },
    {
      "cell_type": "markdown",
      "metadata": {
        "id": "hD7iRWnWHhXe",
        "colab_type": "text"
      },
      "source": [
        "## What is Python ?\n",
        "> Python is General purpose object oriented programming language created by [Guido van Rossum](https://en.wikipedia.org/wiki/Guido_van_Rossum).\n",
        "\n"
      ]
    },
    {
      "cell_type": "markdown",
      "metadata": {
        "id": "G4rO_ONoNHzD",
        "colab_type": "text"
      },
      "source": [
        "## Why Python ?\n",
        "> Python is simple and easy to learn. It is used in Automated Testing, Web development, Data Science, Artificial Intelligence, Machine Learning and Deep learning. "
      ]
    },
    {
      "cell_type": "markdown",
      "metadata": {
        "id": "nt8owSpSInLA",
        "colab_type": "text"
      },
      "source": [
        "## What will be covered in this course ?"
      ]
    },
    {
      "cell_type": "markdown",
      "metadata": {
        "id": "2PisZy5zM5nd",
        "colab_type": "text"
      },
      "source": [
        "\n",
        "> 1. Install Python\n",
        "2. Basics in python\n",
        "3. Variables, Types and Inputs\n",
        "4. Operators\n",
        "5. Decision making\n",
        "6. Loops\n",
        "7. Operators\n",
        "8. Strings\n",
        "9. List\n",
        "10. Tuples\n",
        "11. Dictionary\n",
        "12. Slicing\n",
        "13. Functions\n",
        "14. Modules\n",
        "15. File Operations\n",
        "16. Exception handling\n",
        "17. Classes and Objects\n",
        "18. Inheritance\n"
      ]
    },
    {
      "cell_type": "markdown",
      "metadata": {
        "id": "yiHzq_LtOeKE",
        "colab_type": "text"
      },
      "source": [
        "## How to install Python ? (Optional)\n",
        "\n",
        "1. Easiest way to install python is to install [chocolatey](https://chocolatey.org/). To install chocolatey. Type `cmd` in start and click `Run as Administrator`.\n",
        "![image.png](https://github.com/gokul-a-krishnan/python-series/blob/master/images/cmd.jpg?raw=1) <br/>\n",
        "\n",
        "2. Now paste the `command` given below and press `Enter`. This will install chocolatey on your pc.\n",
        "```\n",
        "@\"%SystemRoot%\\System32\\WindowsPowerShell\\v1.0\\powershell.exe\" -NoProfile -InputFormat None -ExecutionPolicy Bypass -Command \"[System.Net.ServicePointManager]::SecurityProtocol = 3072; iex ((New-Object System.Net.WebClient).DownloadString('https://chocolatey.org/install.ps1'))\" && SET \"PATH=%PATH%;%ALLUSERSPROFILE%\\chocolatey\\bin\"\n",
        "```\n",
        "![chocolatey install](https://github.com/gokul-a-krishnan/python-series/blob/master/images/chocolatey-install?raw=1)<br/>\n",
        "3. Now paste the `command` to install latest version of python. (I already installed so image shows).\n",
        "```\n",
        " choco install python\n",
        "```\n",
        "![python install](https://github.com/gokul-a-krishnan/python-series/blob/master/images/python-install.jpg?raw=1)<br/>\n",
        "4. To Check python installation run `python --version` command in cmd.<br/>\n",
        "![python version](https://github.com/gokul-a-krishnan/python-series/blob/master/images/python-version.jpg?raw=1)<br/>"
      ]
    },
    {
      "cell_type": "markdown",
      "metadata": {
        "id": "PUliESI8elsZ",
        "colab_type": "text"
      },
      "source": [
        "### We dont need to install python for this course. We use [Google Colab](https://colab.research.google.com/) to run python. \n",
        "\n",
        "Colab is Python Jupyterbook hosted by google. We can use it absolutely free of cost on the browser. All we need is stable internet connection.\n",
        "\n",
        "If your internet connection is poor. Install python on your machine you are Good to go."
      ]
    }
  ]
}
