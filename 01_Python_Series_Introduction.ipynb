{
  "nbformat": 4,
  "nbformat_minor": 0,
  "metadata": {
    "colab": {
      "name": "01 . Python Series - Introduction.ipynb",
      "provenance": [],
      "collapsed_sections": [],
      "toc_visible": true,
      "authorship_tag": "ABX9TyOKczCo65jmAQLEiNtCtVVv",
      "include_colab_link": true
    },
    "kernelspec": {
      "name": "python3",
      "display_name": "Python 3"
    }
  },
  "cells": [
    {
      "cell_type": "markdown",
      "metadata": {
        "id": "view-in-github",
        "colab_type": "text"
      },
      "source": [
        "<a href=\"https://colab.research.google.com/github/gokul-a-krishnan/python-series/blob/master/01_Python_Series_Introduction.ipynb\" target=\"_parent\"><img src=\"https://colab.research.google.com/assets/colab-badge.svg\" alt=\"Open In Colab\"/></a>"
      ]
    },
    {
      "cell_type": "markdown",
      "metadata": {
        "id": "jvm0368XHEBh",
        "colab_type": "text"
      },
      "source": [
        "# Python Series"
      ]
    },
    {
      "cell_type": "markdown",
      "metadata": {
        "id": "hD7iRWnWHhXe",
        "colab_type": "text"
      },
      "source": [
        "## What is Python ?\n",
        "> Python is General purpose object oriented programming language created by [Guido van Rossum](https://en.wikipedia.org/wiki/Guido_van_Rossum).\n",
        "\n"
      ]
    },
    {
      "cell_type": "markdown",
      "metadata": {
        "id": "G4rO_ONoNHzD",
        "colab_type": "text"
      },
      "source": [
        "## Why Python ?\n",
        "> Python is simple and easy to learn. It is used in Automated Testing, Web development, Data Science, Artificial Intelligence, Machine Learning and Deep learning. "
      ]
    },
    {
      "cell_type": "markdown",
      "metadata": {
        "id": "nt8owSpSInLA",
        "colab_type": "text"
      },
      "source": [
        "## What will be covered in this course ?"
      ]
    },
    {
      "cell_type": "markdown",
      "metadata": {
        "id": "2PisZy5zM5nd",
        "colab_type": "text"
      },
      "source": [
        "\n",
        "> 1. Install Python\n",
        "2. Basics in python\n",
        "3. Variables, Types and Inputs\n",
        "4. Operators\n",
        "5. Decision making\n",
        "6. Loops\n",
        "7. Operators\n",
        "8. Strings\n",
        "9. List\n",
        "10. Tuples\n",
        "11. Dictionary\n",
        "12. Slicing\n",
        "13. Functions\n",
        "14. Modules\n",
        "15. File Operations\n",
        "16. Exception handling\n",
        "17. Classes and Objects\n",
        "18. Inheritance\n"
      ]
    },
    {
      "cell_type": "markdown",
      "metadata": {
        "id": "yiHzq_LtOeKE",
        "colab_type": "text"
      },
      "source": [
        "## How to install Python ? \n",
        "![image.png](cmd.jpg)"
      ]
    }
  ]
}